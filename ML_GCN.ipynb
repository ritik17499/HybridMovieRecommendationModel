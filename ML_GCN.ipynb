{
  "cells": [
    {
      "cell_type": "code",
      "execution_count": 1,
      "metadata": {
        "application/vnd.databricks.v1+cell": {
          "cellMetadata": {
            "byteLimit": 2048000,
            "rowLimit": 10000
          },
          "inputWidgets": {},
          "nuid": "12823629-ecbe-4f4b-8511-f67323a7e5aa",
          "showTitle": false,
          "tableResultSettingsMap": {},
          "title": ""
        },
        "id": "f_qdDb8h08-o"
      },
      "outputs": [],
      "source": [
        "\n",
        "from pyspark.mllib.recommendation import ALS, Rating\n",
        "from pyspark.rdd import RDD\n",
        "from pyspark.sql import SparkSession, Row\n",
        "import random\n",
        "import numpy as np\n",
        "from sklearn.metrics import mean_squared_error, mean_absolute_error\n",
        "import matplotlib.pyplot as plt\n"
      ]
    },
    {
      "cell_type": "code",
      "execution_count": 2,
      "metadata": {
        "id": "eLNczliD1h4G"
      },
      "outputs": [],
      "source": [
        "from pyspark.sql import SparkSession\n",
        "from pyspark.sql.types import StructType, StructField, IntegerType\n",
        "\n",
        "# Step 1: Start Spark session\n",
        "spark = SparkSession.builder \\\n",
        "    .appName(\"MovieLensReader\") \\\n",
        "    .master(\"local[*]\") \\\n",
        "    .getOrCreate()\n",
        "\n",
        "sc=spark.sparkContext"
      ]
    },
    {
      "cell_type": "code",
      "execution_count": 5,
      "metadata": {
        "id": "vYYMM3Yb1de8"
      },
      "outputs": [],
      "source": [
        "\n",
        "rawUD = sc.textFile(\"u.data\")\n",
        "rawRatings = rawUD.map(lambda line: line.split(\"\\t\")[:3])\n",
        "ratingsRDD = rawRatings.map(lambda x: Rating(int(x[0]), int(x[1]), float(x[2])))\n"
      ]
    },
    {
      "cell_type": "code",
      "execution_count": null,
      "metadata": {
        "application/vnd.databricks.v1+cell": {
          "cellMetadata": {
            "byteLimit": 2048000,
            "rowLimit": 10000
          },
          "inputWidgets": {},
          "nuid": "134794ca-4310-41d9-a787-01f57c42daf1",
          "showTitle": false,
          "tableResultSettingsMap": {},
          "title": ""
        },
        "id": "Vjy6wG4u08-r"
      },
      "outputs": [],
      "source": [
        "from pyspark.sql import functions as F\n",
        "from pyspark.sql.functions import col, rand\n",
        "import random\n",
        "\n",
        "# Convert RDD to DataFrame\n",
        "df = ratingsRDD.toDF()\n",
        "\n",
        "# Step 1: Filter users with ≥ 5 ratings\n",
        "user_counts = df.groupBy(\"user\").agg(F.count(\"*\").alias(\"count\"))\n",
        "eligible_users = user_counts.filter(col(\"count\") >= 5).select(\"user\").rdd.flatMap(lambda x: x).collect()\n",
        "\n",
        "# Step 2: Sample 20% OOD users\n",
        "ood_users = set(random.sample(eligible_users, int(0.2 * len(eligible_users))))\n",
        "id_users = set(eligible_users) - ood_users\n",
        "\n",
        "# Step 3: ID users data for training\n",
        "train_df = df.filter(col(\"user\").isin(list(id_users)))\n",
        "\n",
        "# Step 4: OOD users data split into 80/20\n",
        "ood_df = df.filter(col(\"user\").isin(list(ood_users)))\n",
        "ood_df = ood_df.withColumn(\"rand\", rand())\n",
        "\n",
        "ood_train_df = ood_df.filter(col(\"rand\") <= 0.8)\n",
        "ood_test_df = ood_df.filter(col(\"rand\") > 0.8)\n",
        "\n",
        "# Step 5: Final full train and test datasets (still Spark DataFrames)\n",
        "full_train_df = train_df.select(\"user\", \"product\").union(ood_train_df.select(\"user\", \"product\"))\n",
        "final_test_df = ood_test_df.select(\"user\", \"product\", \"rating\")\n",
        "\n",
        "# Step 6: Convert to Pandas for LightGCN processing\n",
        "train_pd = full_train_df.toPandas()\n",
        "test_pd = final_test_df.toPandas()\n"
      ]
    },
    {
      "cell_type": "code",
      "execution_count": null,
      "metadata": {
        "application/vnd.databricks.v1+cell": {
          "cellMetadata": {
            "byteLimit": 2048000,
            "rowLimit": 10000
          },
          "inputWidgets": {},
          "nuid": "e89ce4df-d65b-4836-98b2-ef20e8546172",
          "showTitle": false,
          "tableResultSettingsMap": {},
          "title": ""
        },
        "id": "8pfZ0Tab08-r"
      },
      "outputs": [],
      "source": [
        "import torch\n",
        "from sklearn.preprocessing import LabelEncoder\n",
        "\n",
        "# Step 1: Encode user and item IDs\n",
        "user_encoder = LabelEncoder()\n",
        "item_encoder = LabelEncoder()\n",
        "\n",
        "# Fit encoders on train set\n",
        "train_pd['user_enc'] = user_encoder.fit_transform(train_pd['user'])\n",
        "train_pd['item_enc'] = item_encoder.fit_transform(train_pd['product'])\n",
        "\n",
        "# Filter test users/items to those seen during training\n",
        "test_pd = test_pd[\n",
        "    test_pd['user'].isin(user_encoder.classes_) &\n",
        "    test_pd['product'].isin(item_encoder.classes_)\n",
        "].copy()\n",
        "\n",
        "# Transform test set\n",
        "test_pd['user_enc'] = user_encoder.transform(test_pd['user'])\n",
        "test_pd['item_enc'] = item_encoder.transform(test_pd['product'])\n",
        "\n",
        "# Step 2: Tensor Conversion for LightGCN \n",
        "user_tensor = torch.tensor(train_pd[\"user_enc\"].values, dtype=torch.long)\n",
        "item_tensor = torch.tensor(train_pd[\"item_enc\"].values, dtype=torch.long)\n",
        "\n",
        "# Get total user/item counts for model\n",
        "num_users_enc = len(user_encoder.classes_)\n",
        "num_items_enc = len(item_encoder.classes_)\n",
        "\n",
        "# Create symmetric edge_index for LightGCN\n",
        "edge_u = user_tensor\n",
        "edge_v = item_tensor + num_users_enc  # offset items\n",
        "edge_index = torch.stack([\n",
        "    torch.cat([edge_u, edge_v]),\n",
        "    torch.cat([edge_v, edge_u])\n",
        "])\n",
        "\n",
        "# Training pairs for BPR loss\n",
        "train_pairs = torch.stack([user_tensor, item_tensor], dim=1)\n"
      ]
    },
    {
      "cell_type": "code",
      "execution_count": null,
      "metadata": {
        "application/vnd.databricks.v1+cell": {
          "cellMetadata": {
            "byteLimit": 2048000,
            "rowLimit": 10000
          },
          "inputWidgets": {},
          "nuid": "b3b61732-dc78-49ed-aa93-8aeafd409ed6",
          "showTitle": false,
          "tableResultSettingsMap": {},
          "title": ""
        },
        "id": "FiRBz5Pp08-s"
      },
      "outputs": [],
      "source": [
        "import torch\n",
        "import torch.nn as nn\n",
        "import torch.nn.functional as F\n",
        "\n",
        "# LightGCN Model\n",
        "class LightGCN(nn.Module):\n",
        "    def __init__(self, num_users, num_items, embedding_dim=64, n_layers=3):\n",
        "        super().__init__()\n",
        "        self.user_embedding = nn.Embedding(num_users, embedding_dim)\n",
        "        self.item_embedding = nn.Embedding(num_items, embedding_dim)\n",
        "        nn.init.xavier_uniform_(self.user_embedding.weight)\n",
        "        nn.init.xavier_uniform_(self.item_embedding.weight)\n",
        "        self.n_layers = n_layers\n",
        "\n",
        "    def forward(self, edge_index):\n",
        "        emb = torch.cat([self.user_embedding.weight, self.item_embedding.weight], dim=0)\n",
        "        all_emb = [emb]\n",
        "\n",
        "        for _ in range(self.n_layers):\n",
        "            emb = self.propagate(edge_index, emb)\n",
        "            all_emb.append(emb)\n",
        "\n",
        "        emb = torch.stack(all_emb, dim=0).mean(0)\n",
        "        return emb[:self.user_embedding.num_embeddings], emb[self.user_embedding.num_embeddings:]\n",
        "\n",
        "    def propagate(self, edge_index, emb):\n",
        "        row, col = edge_index\n",
        "        deg = torch.bincount(row, minlength=emb.size(0))\n",
        "        deg_inv_sqrt = deg.float().pow(-0.5)\n",
        "        deg_inv_sqrt[deg_inv_sqrt == float('inf')] = 0\n",
        "        norm = deg_inv_sqrt[row] * deg_inv_sqrt[col]\n",
        "        adj = torch.sparse_coo_tensor(edge_index, norm, (emb.size(0), emb.size(0)))\n",
        "        return torch.sparse.mm(adj, emb)\n",
        "\n",
        "    def predict(self, user_emb, item_emb, user_ids, item_ids):\n",
        "        return (user_emb[user_ids] * item_emb[item_ids]).sum(dim=1)\n"
      ]
    },
    {
      "cell_type": "code",
      "execution_count": 9,
      "metadata": {
        "application/vnd.databricks.v1+cell": {
          "cellMetadata": {
            "byteLimit": 2048000,
            "rowLimit": 10000
          },
          "inputWidgets": {},
          "nuid": "9a6a8c27-506e-4e55-a6e4-35e47f17c765",
          "showTitle": false,
          "tableResultSettingsMap": {},
          "title": ""
        },
        "id": "c3Zso9sD08-s"
      },
      "outputs": [],
      "source": [
        "def bpr_loss(pos_scores, neg_scores):\n",
        "    return -torch.mean(F.logsigmoid(pos_scores - neg_scores))\n"
      ]
    },
    {
      "cell_type": "code",
      "execution_count": 10,
      "metadata": {
        "application/vnd.databricks.v1+cell": {
          "cellMetadata": {
            "byteLimit": 2048000,
            "rowLimit": 10000
          },
          "inputWidgets": {},
          "nuid": "e2ae7da0-3cc3-4614-be41-cbcd5f6bb93e",
          "showTitle": false,
          "tableResultSettingsMap": {},
          "title": ""
        },
        "id": "e2PYfNEw08-s"
      },
      "outputs": [],
      "source": [
        "def train_lightgcn(model, edge_index, user_item_pairs, epochs=10, lr=0.01):\n",
        "    optimizer = torch.optim.Adam(model.parameters(), lr=lr)\n",
        "    model.train()\n",
        "\n",
        "    for epoch in range(epochs):\n",
        "        user_emb, item_emb = model(edge_index)\n",
        "        user_ids = user_item_pairs[:, 0]\n",
        "        pos_items = user_item_pairs[:, 1]\n",
        "        neg_items = torch.randint(0, item_emb.shape[0], pos_items.shape)\n",
        "\n",
        "        pos_scores = model.predict(user_emb, item_emb, user_ids, pos_items)\n",
        "        neg_scores = model.predict(user_emb, item_emb, user_ids, neg_items)\n",
        "        loss = bpr_loss(pos_scores, neg_scores)\n",
        "\n",
        "        optimizer.zero_grad()\n",
        "        loss.backward()\n",
        "        optimizer.step()\n",
        "\n",
        "        print(f\"Epoch {epoch+1}/{epochs}, Loss: {loss.item():.4f}\")\n"
      ]
    },
    {
      "cell_type": "code",
      "execution_count": 11,
      "metadata": {
        "application/vnd.databricks.v1+cell": {
          "cellMetadata": {
            "byteLimit": 2048000,
            "rowLimit": 10000
          },
          "inputWidgets": {},
          "nuid": "7e2df4ed-0e2d-4a26-8beb-09b07ab53e7d",
          "showTitle": false,
          "tableResultSettingsMap": {},
          "title": ""
        },
        "colab": {
          "base_uri": "https://localhost:8080/"
        },
        "id": "aiGtO-4108-s",
        "outputId": "aa4b70f9-6260-497e-951a-4790b36b5afc"
      },
      "outputs": [
        {
          "name": "stdout",
          "output_type": "stream",
          "text": [
            "Epoch 1/10, Loss: 0.6931\n",
            "Epoch 2/10, Loss: 0.6918\n",
            "Epoch 3/10, Loss: 0.6887\n",
            "Epoch 4/10, Loss: 0.6830\n",
            "Epoch 5/10, Loss: 0.6747\n",
            "Epoch 6/10, Loss: 0.6636\n",
            "Epoch 7/10, Loss: 0.6503\n",
            "Epoch 8/10, Loss: 0.6340\n",
            "Epoch 9/10, Loss: 0.6156\n",
            "Epoch 10/10, Loss: 0.5955\n"
          ]
        }
      ],
      "source": [
        "model = LightGCN(num_users_enc, num_items_enc)\n",
        "train_lightgcn(model, edge_index, train_pairs)\n"
      ]
    },
    {
      "cell_type": "code",
      "execution_count": 12,
      "metadata": {
        "application/vnd.databricks.v1+cell": {
          "cellMetadata": {
            "byteLimit": 2048000,
            "rowLimit": 10000
          },
          "inputWidgets": {},
          "nuid": "b467eec0-ac5f-47ff-ab49-771c1579ab00",
          "showTitle": false,
          "tableResultSettingsMap": {},
          "title": ""
        },
        "id": "mG8gedKD08-t"
      },
      "outputs": [],
      "source": [
        "# Filter to only known users and items\n",
        "test_pd = test_pd[\n",
        "    test_pd['user'].isin(user_encoder.classes_) &\n",
        "    test_pd['product'].isin(item_encoder.classes_)\n",
        "].copy()\n",
        "\n",
        "# Encode using previously trained encoders\n",
        "test_pd['user_enc'] = user_encoder.transform(test_pd['user'])\n",
        "test_pd['item_enc'] = item_encoder.transform(test_pd['product'])\n"
      ]
    },
    {
      "cell_type": "code",
      "execution_count": 27,
      "metadata": {
        "application/vnd.databricks.v1+cell": {
          "cellMetadata": {
            "byteLimit": 2048000,
            "rowLimit": 10000
          },
          "inputWidgets": {},
          "nuid": "cdaadfba-d4e2-41d8-84f8-52804d9e3fe3",
          "showTitle": false,
          "tableResultSettingsMap": {},
          "title": ""
        },
        "colab": {
          "base_uri": "https://localhost:8080/"
        },
        "id": "HdKnL63_08-t",
        "outputId": "be26737a-13be-4938-9820-c4b0249ac5ec"
      },
      "outputs": [
        {
          "name": "stdout",
          "output_type": "stream",
          "text": [
            "Evaluation Complete:\n",
            "RMSE: 4.7406\n",
            "MAE:  1.7361\n"
          ]
        }
      ],
      "source": [
        "from sklearn.metrics import mean_squared_error, mean_absolute_error\n",
        "\n",
        "# Switch model to eval mode\n",
        "model.eval()\n",
        "with torch.no_grad():\n",
        "    # Get user and item embeddings\n",
        "    user_emb, item_emb = model(edge_index)\n",
        "\n",
        "    # Prepare tensors for evaluation\n",
        "    test_user_ids = torch.tensor(test_pd[\"user_enc\"].values, dtype=torch.long)\n",
        "    test_item_ids = torch.tensor(test_pd[\"item_enc\"].values, dtype=torch.long)\n",
        "\n",
        "    # Predict ratings\n",
        "    predictions = model.predict(user_emb, item_emb, test_user_ids, test_item_ids)\n",
        "\n",
        "# Compute metrics\n",
        "labels = test_pd[\"rating\"].values\n",
        "preds = predictions.numpy()\n",
        "\n",
        "rmse = mean_squared_error(labels, preds)\n",
        "mae = mean_absolute_error(labels, preds)\n",
        "\n",
        "print(f\"Evaluation Complete:\")\n",
        "print(f\"RMSE: {rmse:.4f}\")\n",
        "print(f\"MAE:  {mae:.4f}\")\n"
      ]
    },
    {
      "cell_type": "code",
      "execution_count": null,
      "metadata": {
        "id": "AZISEplk386b"
      },
      "outputs": [],
      "source": [
        "from sklearn.metrics import mean_squared_error, mean_absolute_error\n",
        "import random\n",
        "import torch\n",
        "\n",
        "def multi_track_evaluation(test_pd, model, edge_index, user_emb, item_emb, seed=42, ood_ratio=0.2):\n",
        " \n",
        "    # Fix seed for reproducibility\n",
        "    random.seed(seed)\n",
        "\n",
        "    # Sample OOD users from users present in test set\n",
        "    test_user_pool = list(test_pd[\"user\"].unique())\n",
        "    num_ood = max(1, int(len(test_user_pool) * ood_ratio))\n",
        "    ood_users = set(random.sample(test_user_pool, num_ood))\n",
        "    id_users = set(test_user_pool) - ood_users\n",
        "\n",
        "    # Split test set\n",
        "    test_pd[\"user_orig\"] = test_pd[\"user\"]\n",
        "    id_test_pd = test_pd[test_pd[\"user_orig\"].isin(id_users)]\n",
        "    ood_test_pd = test_pd[test_pd[\"user_orig\"].isin(ood_users)]\n",
        "\n",
        "    # Define reusable metric function\n",
        "    def evaluate(test_df):\n",
        "        user_ids = torch.tensor(test_df[\"user_enc\"].values, dtype=torch.long)\n",
        "        item_ids = torch.tensor(test_df[\"item_enc\"].values, dtype=torch.long)\n",
        "        labels = test_df[\"rating\"].values\n",
        "        with torch.no_grad():\n",
        "            preds = model.predict(user_emb, item_emb, user_ids, item_ids).numpy()\n",
        "        return mean_squared_error(labels, preds), mean_absolute_error(labels, preds)\n",
        "\n",
        "    # Run evaluations\n",
        "    rmse_all, mae_all = evaluate(test_pd)\n",
        "    rmse_id, mae_id = evaluate(id_test_pd)\n",
        "    rmse_ood, mae_ood = evaluate(ood_test_pd)\n",
        "    plt.bar(['ID', 'OOD'], [rmse_id, rmse_ood], color=['skyblue', 'salmon'])\n",
        "    plt.ylabel(\"RMSE\")\n",
        "    plt.title(\"Model Robustness: In-Distribution vs Out-of-Distribution\")\n",
        "    plt.grid(True)\n",
        "    plt.show()\n",
        "\n",
        "    # Print results\n",
        "    print(\"\\n Multi-Track Evaluation Results (LightGCN)\")\n",
        "    print(f\"1. Overall Test Set     RMSE: {rmse_all:.4f}, MAE: {mae_all:.4f}\")\n",
        "    print(f\"2. In-Distribution (ID)  RMSE: {rmse_id:.4f}, MAE: {mae_id:.4f}\")\n",
        "    print(f\"3. Out-of-Distribution   RMSE: {rmse_ood:.4f}, MAE: {mae_ood:.4f}\")\n",
        "\n",
        "    return {\n",
        "        \"overall\": {\"rmse\": rmse_all, \"mae\": mae_all},\n",
        "        \"id\": {\"rmse\": rmse_id, \"mae\": mae_id},\n",
        "        \"ood\": {\"rmse\": rmse_ood, \"mae\": mae_ood}\n",
        "    }\n"
      ]
    },
    {
      "cell_type": "code",
      "execution_count": 29,
      "metadata": {
        "colab": {
          "base_uri": "https://localhost:8080/",
          "height": 541
        },
        "id": "uQLccITC4hHc",
        "outputId": "c9ed7c1d-5c36-4f34-97a9-4fd69efdf3fe"
      },
      "outputs": [
        {
          "data": {
            "image/png": "[encoded data removed]",
            "text/plain": [
              "<Figure size 640x480 with 1 Axes>"
            ]
          },
          "metadata": {},
          "output_type": "display_data"
        },
        {
          "name": "stdout",
          "output_type": "stream",
          "text": [
            "\n",
            " Multi-Track Evaluation Results (LightGCN)\n",
            "1. Overall Test Set     → RMSE: 4.7406, MAE: 1.7361\n",
            "2. In-Distribution (ID) → RMSE: 4.6552, MAE: 1.7216\n",
            "3. Out-of-Distribution  → RMSE: 5.1994, MAE: 1.8140\n"
          ]
        }
      ],
      "source": [
        "model.eval()\n",
        "with torch.no_grad():\n",
        "    user_emb, item_emb = model(edge_index)\n",
        "\n",
        "results = multi_track_evaluation(test_pd, model, edge_index, user_emb, item_emb)\n"
      ]
    },
    {
      "cell_type": "code",
      "execution_count": 16,
      "metadata": {
        "colab": {
          "base_uri": "https://localhost:8080/",
          "height": 507
        },
        "id": "IyMOPbJS3DAd",
        "outputId": "96f8659f-f88d-4e0b-e308-4f660a169559"
      },
      "outputs": [
        {
          "data": {
            "image/png": "[encoded data removed]",
            "text/plain": [
              "<Figure size 800x500 with 1 Axes>"
            ]
          },
          "metadata": {},
          "output_type": "display_data"
        }
      ],
      "source": [
        "import seaborn as sns\n",
        "import matplotlib.pyplot as plt\n",
        "\n",
        "# Add residuals to test set\n",
        "test_pd[\"pred\"] = predictions.numpy()\n",
        "test_pd[\"error\"] = abs(test_pd[\"rating\"] - test_pd[\"pred\"])\n",
        "\n",
        "# Plot error distribution by true rating\n",
        "plt.figure(figsize=(8, 5))\n",
        "sns.boxplot(x=\"rating\", y=\"error\", data=test_pd)\n",
        "plt.title(\"Heteroscedasticity Analysis: Error Distribution by True Rating\")\n",
        "plt.xlabel(\"True Rating\")\n",
        "plt.ylabel(\"Absolute Prediction Error\")\n",
        "plt.grid(True)\n",
        "plt.tight_layout()\n",
        "plt.show()\n"
      ]
    },
    {
      "cell_type": "code",
      "execution_count": 30,
      "metadata": {
        "colab": {
          "base_uri": "https://localhost:8080/"
        },
        "id": "jA-kNcLy3ZJ-",
        "outputId": "ba0e6685-fa4e-4c4f-ec72-5ccaff4bcb9b"
      },
      "outputs": [
        {
          "name": "stdout",
          "output_type": "stream",
          "text": [
            "\n",
            "Training LightGCN with embedding_dim=8\n",
            "Epoch 1/10, Loss: 0.6931\n",
            "Epoch 2/10, Loss: 0.6930\n",
            "Epoch 3/10, Loss: 0.6925\n",
            "Epoch 4/10, Loss: 0.6918\n",
            "Epoch 5/10, Loss: 0.6907\n",
            "Epoch 6/10, Loss: 0.6892\n",
            "Epoch 7/10, Loss: 0.6873\n",
            "Epoch 8/10, Loss: 0.6848\n",
            "Epoch 9/10, Loss: 0.6820\n",
            "Epoch 10/10, Loss: 0.6787\n",
            "Train RMSE: 0.9303, Test RMSE: 3.6389\n",
            "\n",
            "Training LightGCN with embedding_dim=16\n",
            "Epoch 1/10, Loss: 0.6931\n",
            "Epoch 2/10, Loss: 0.6928\n",
            "Epoch 3/10, Loss: 0.6921\n",
            "Epoch 4/10, Loss: 0.6907\n",
            "Epoch 5/10, Loss: 0.6886\n",
            "Epoch 6/10, Loss: 0.6858\n",
            "Epoch 7/10, Loss: 0.6821\n",
            "Epoch 8/10, Loss: 0.6777\n",
            "Epoch 9/10, Loss: 0.6722\n",
            "Epoch 10/10, Loss: 0.6662\n",
            "Train RMSE: 0.8690, Test RMSE: 3.5851\n",
            "\n",
            "Training LightGCN with embedding_dim=32\n",
            "Epoch 1/10, Loss: 0.6930\n",
            "Epoch 2/10, Loss: 0.6925\n",
            "Epoch 3/10, Loss: 0.6912\n",
            "Epoch 4/10, Loss: 0.6887\n",
            "Epoch 5/10, Loss: 0.6851\n",
            "Epoch 6/10, Loss: 0.6798\n",
            "Epoch 7/10, Loss: 0.6732\n",
            "Epoch 8/10, Loss: 0.6651\n",
            "Epoch 9/10, Loss: 0.6556\n",
            "Epoch 10/10, Loss: 0.6444\n",
            "Train RMSE: 0.7592, Test RMSE: 3.4871\n",
            "\n",
            "Training LightGCN with embedding_dim=64\n",
            "Epoch 1/10, Loss: 0.6929\n",
            "Epoch 2/10, Loss: 0.6920\n",
            "Epoch 3/10, Loss: 0.6895\n",
            "Epoch 4/10, Loss: 0.6848\n",
            "Epoch 5/10, Loss: 0.6776\n",
            "Epoch 6/10, Loss: 0.6679\n",
            "Epoch 7/10, Loss: 0.6550\n",
            "Epoch 8/10, Loss: 0.6401\n",
            "Epoch 9/10, Loss: 0.6220\n",
            "Epoch 10/10, Loss: 0.6035\n",
            "Train RMSE: 0.5527, Test RMSE: 3.2854\n",
            "\n",
            "Training LightGCN with embedding_dim=128\n",
            "Epoch 1/10, Loss: 0.6927\n",
            "Epoch 2/10, Loss: 0.6908\n",
            "Epoch 3/10, Loss: 0.6855\n",
            "Epoch 4/10, Loss: 0.6757\n",
            "Epoch 5/10, Loss: 0.6608\n",
            "Epoch 6/10, Loss: 0.6409\n",
            "Epoch 7/10, Loss: 0.6171\n",
            "Epoch 8/10, Loss: 0.5899\n",
            "Epoch 9/10, Loss: 0.5595\n",
            "Epoch 10/10, Loss: 0.5299\n",
            "Train RMSE: 0.4288, Test RMSE: 2.8558\n",
            "\n",
            "Training LightGCN with embedding_dim=256\n",
            "Epoch 1/10, Loss: 0.6923\n",
            "Epoch 2/10, Loss: 0.6885\n",
            "Epoch 3/10, Loss: 0.6779\n",
            "Epoch 4/10, Loss: 0.6584\n",
            "Epoch 5/10, Loss: 0.6302\n",
            "Epoch 6/10, Loss: 0.5960\n",
            "Epoch 7/10, Loss: 0.5543\n",
            "Epoch 8/10, Loss: 0.5143\n",
            "Epoch 9/10, Loss: 0.4753\n",
            "Epoch 10/10, Loss: 0.4445\n",
            "Train RMSE: 1.3170, Test RMSE: 2.1472\n",
            "\n",
            "Training LightGCN with embedding_dim=512\n",
            "Epoch 1/10, Loss: 0.6918\n",
            "Epoch 2/10, Loss: 0.6843\n",
            "Epoch 3/10, Loss: 0.6635\n",
            "Epoch 4/10, Loss: 0.6277\n",
            "Epoch 5/10, Loss: 0.5788\n",
            "Epoch 6/10, Loss: 0.5212\n",
            "Epoch 7/10, Loss: 0.4691\n",
            "Epoch 8/10, Loss: 0.4333\n",
            "Epoch 9/10, Loss: 0.4084\n",
            "Epoch 10/10, Loss: 0.4025\n",
            "Train RMSE: 3.0060, Test RMSE: 1.6951\n",
            "\n",
            "Training LightGCN with embedding_dim=1024\n",
            "Epoch 1/10, Loss: 0.6911\n",
            "Epoch 2/10, Loss: 0.6774\n",
            "Epoch 3/10, Loss: 0.6390\n",
            "Epoch 4/10, Loss: 0.5755\n",
            "Epoch 5/10, Loss: 0.5016\n",
            "Epoch 6/10, Loss: 0.4398\n",
            "Epoch 7/10, Loss: 0.4012\n",
            "Epoch 8/10, Loss: 0.3955\n",
            "Epoch 9/10, Loss: 0.4045\n",
            "Epoch 10/10, Loss: 0.4203\n",
            "Train RMSE: 4.5082, Test RMSE: 2.3119\n",
            "\n",
            "Training LightGCN with embedding_dim=2048\n",
            "Epoch 1/10, Loss: 0.6903\n",
            "Epoch 2/10, Loss: 0.6648\n",
            "Epoch 3/10, Loss: 0.5955\n",
            "Epoch 4/10, Loss: 0.4958\n",
            "Epoch 5/10, Loss: 0.4181\n",
            "Epoch 6/10, Loss: 0.3928\n",
            "Epoch 7/10, Loss: 0.3986\n",
            "Epoch 8/10, Loss: 0.4242\n",
            "Epoch 9/10, Loss: 0.4179\n",
            "Epoch 10/10, Loss: 0.4024\n",
            "Train RMSE: 4.3646, Test RMSE: 2.1922\n"
          ]
        }
      ],
      "source": [
        "embedding_dims = [8, 16, 32, 64, 128, 256, 512, 1024, 2048]\n",
        "train_rmse_values = []\n",
        "test_rmse_values = []\n",
        "\n",
        "for dim in embedding_dims:\n",
        "    print(f\"\\nTraining LightGCN with embedding_dim={dim}\")\n",
        "\n",
        "    # Sample 30% training data\n",
        "    train_small = train_pd.sample(frac=0.3, random_state=42).reset_index(drop=True)\n",
        "    user_tensor = torch.tensor(user_encoder.transform(train_small[\"user\"]), dtype=torch.long)\n",
        "    item_tensor = torch.tensor(item_encoder.transform(train_small[\"product\"]), dtype=torch.long)\n",
        "\n",
        "    edge_u = user_tensor\n",
        "    edge_v = item_tensor + num_users_enc\n",
        "    edge_index = torch.stack([torch.cat([edge_u, edge_v]), torch.cat([edge_v, edge_u])])\n",
        "    train_pairs = torch.stack([user_tensor, item_tensor], dim=1)\n",
        "\n",
        "    # Train\n",
        "    model = LightGCN(num_users_enc, num_items_enc, embedding_dim=dim)\n",
        "    train_lightgcn(model, edge_index, train_pairs, epochs=10)\n",
        "\n",
        "    with torch.no_grad():\n",
        "        user_emb, item_emb = model(edge_index)\n",
        "\n",
        "        # Train RMSE\n",
        "        train_preds = model.predict(user_emb, item_emb, user_tensor, item_tensor).numpy()\n",
        "        train_rmse = mean_squared_error(np.ones_like(train_preds), train_preds) ** 0.5\n",
        "        train_rmse_values.append(train_rmse)\n",
        "\n",
        "        # Test RMSE\n",
        "        user_ids = torch.tensor(test_pd[\"user_enc\"].values, dtype=torch.long)\n",
        "        item_ids = torch.tensor(test_pd[\"item_enc\"].values, dtype=torch.long)\n",
        "        test_preds = model.predict(user_emb, item_emb, user_ids, item_ids).numpy()\n",
        "        test_rmse = mean_squared_error(test_pd[\"rating\"], test_preds) ** 0.5\n",
        "        test_rmse_values.append(test_rmse)\n",
        "\n",
        "    print(f\"Train RMSE: {train_rmse:.4f}, Test RMSE: {test_rmse:.4f}\")\n"
      ]
    },
    {
      "cell_type": "code",
      "execution_count": 31,
      "metadata": {
        "colab": {
          "base_uri": "https://localhost:8080/",
          "height": 507
        },
        "id": "PJ3y6hSn3gWq",
        "outputId": "e35e0a71-a82c-485b-8bbb-d2d405b0471a"
      },
      "outputs": [
        {
          "data": {
            "image/png": "[encoded data removed]",
            "text/plain": [
              "<Figure size 800x500 with 1 Axes>"
            ]
          },
          "metadata": {},
          "output_type": "display_data"
        }
      ],
      "source": [
        "plt.figure(figsize=(8, 5))\n",
        "plt.plot(embedding_dims, train_rmse_values, marker='o', label=\"Train RMSE\")\n",
        "plt.plot(embedding_dims, test_rmse_values, marker='o', label=\"Test RMSE\")\n",
        "plt.title(\"Train vs Test RMSE vs Embedding Dimension (LightGCN)\")\n",
        "plt.xlabel(\"Embedding Dimension\")\n",
        "plt.ylabel(\"RMSE\")\n",
        "plt.grid(True)\n",
        "plt.legend()\n",
        "plt.tight_layout()\n",
        "plt.show()\n"
      ]
    },
    {
      "cell_type": "code",
      "execution_count": 32,
      "metadata": {
        "id": "oI9tfXRs_xWx"
      },
      "outputs": [],
      "source": [
        "import numpy as np\n",
        "from collections import defaultdict\n",
        "\n",
        "def precision_recall_f1_at_k(model, user_emb, item_emb, test_df, K=10, threshold=4.0):\n",
        "    \"\"\"\n",
        "    Computes Precision@K, Recall@K, and F1@K based on predicted top-K recommendations.\n",
        "    \"\"\"\n",
        "    user_to_items = defaultdict(list)\n",
        "    for row in test_df.itertuples():\n",
        "        if row.rating >= threshold:\n",
        "            user_to_items[row.user_enc].append(row.item_enc)\n",
        "\n",
        "    users = list(user_to_items.keys())\n",
        "    precision_scores = []\n",
        "    recall_scores = []\n",
        "    f1_scores = []\n",
        "\n",
        "    for user in users:\n",
        "        gt_items = set(user_to_items[user])\n",
        "        if not gt_items:\n",
        "            continue\n",
        "\n",
        "        # Predict scores for all items for this user\n",
        "        scores = (user_emb[user] * item_emb).sum(dim=1).numpy()\n",
        "        top_k_items = np.argsort(scores)[-K:][::-1]  # top-K highest scores\n",
        "\n",
        "        pred_items = set(top_k_items)\n",
        "        hits = gt_items & pred_items\n",
        "\n",
        "        precision = len(hits) / K\n",
        "        recall = len(hits) / len(gt_items)\n",
        "        f1 = (2 * precision * recall) / (precision + recall) if (precision + recall) > 0 else 0.0\n",
        "\n",
        "        precision_scores.append(precision)\n",
        "        recall_scores.append(recall)\n",
        "        f1_scores.append(f1)\n",
        "\n",
        "    avg_precision = np.mean(precision_scores)\n",
        "    avg_recall = np.mean(recall_scores)\n",
        "    avg_f1 = np.mean(f1_scores)\n",
        "\n",
        "    print(f\"Precision@{K}: {avg_precision:.4f}\")\n",
        "    print(f\"Recall@{K}:    {avg_recall:.4f}\")\n",
        "    print(f\"F1@{K}:        {avg_f1:.4f}\")\n",
        "\n",
        "    return avg_precision, avg_recall, avg_f1\n"
      ]
    },
    {
      "cell_type": "code",
      "execution_count": 33,
      "metadata": {
        "colab": {
          "base_uri": "https://localhost:8080/"
        },
        "id": "G0aOOGgj_zM_",
        "outputId": "8f3e9b00-a9e4-4b37-d01a-df731121bb67"
      },
      "outputs": [
        {
          "name": "stdout",
          "output_type": "stream",
          "text": [
            "Precision@10: 0.0785\n",
            "Recall@10:    0.1073\n",
            "F1@10:        0.0750\n"
          ]
        }
      ],
      "source": [
        "model.eval()\n",
        "with torch.no_grad():\n",
        "    user_emb, item_emb = model(edge_index)\n",
        "\n",
        "precision_at_10, recall_at_10 , f1 = precision_recall_f1_at_k(\n",
        "    model, user_emb, item_emb, test_pd, K=10, threshold=4.0\n",
        ")\n"
      ]
    }
  ],
  "metadata": {
    "application/vnd.databricks.v1+notebook": {
      "computePreferences": null,
      "dashboards": [],
      "environmentMetadata": {
        "base_environment": "",
        "environment_version": "1"
      },
      "inputWidgetPreferences": null,
      "language": "python",
      "notebookMetadata": {
        "pythonIndentUnit": 4
      },
      "notebookName": "ML_GCN",
      "widgets": {}
    },
    "colab": {
      "provenance": []
    },
    "kernelspec": {
      "display_name": "Python 3",
      "language": "python",
      "name": "python3"
    },
    "language_info": {
      "codemirror_mode": {
        "name": "ipython",
        "version": 3
      },
      "file_extension": ".py",
      "mimetype": "text/x-python",
      "name": "python",
      "nbconvert_exporter": "python",
      "pygments_lexer": "ipython3",
      "version": "3.12.0"
    }
  },
  "nbformat": 4,
  "nbformat_minor": 0
}
